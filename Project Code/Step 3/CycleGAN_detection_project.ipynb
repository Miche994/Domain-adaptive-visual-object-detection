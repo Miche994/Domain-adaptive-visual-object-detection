{
  "nbformat": 4,
  "nbformat_minor": 0,
  "metadata": {
    "colab": {
      "name": "CycleGAN_detection_project.ipynb",
      "provenance": []
    },
    "kernelspec": {
      "name": "python3",
      "display_name": "Python 3"
    },
    "accelerator": "GPU"
  },
  "cells": [
    {
      "cell_type": "markdown",
      "metadata": {
        "id": "_VDFBWZO-xH_"
      },
      "source": [
        "\n",
        "### First of all, the environment is created to run the ssd code uploaded on google drive."
      ]
    },
    {
      "cell_type": "code",
      "metadata": {
        "id": "q4KDsecsJbxk"
      },
      "source": [
        "import argparse\n",
        "import logging\n",
        "import os\n",
        "\n",
        "# !pip3 install 'torch==1.7.1'\n",
        "# !pip3 install 'torchvision==0.8.2'\n",
        "# !pip3 install 'tqdm'\n",
        "# !pip3 install 'viser'\n",
        "# !pip3 install 'yacs'\n",
        "# !pip3 install 'cfg'\n",
        "\n",
        "# Install conda and add channels to look for packages in\n",
        "import sys\n",
        "! wget https://repo.anaconda.com/archive/Anaconda3-2020.02-Linux-x86_64.sh\n",
        "! chmod +x Anaconda3-2020.02-Linux-x86_64.sh\n",
        "! bash ./Anaconda3-2020.02-Linux-x86_64.sh -b -f -p /usr/local\n",
        "sys.path.append('/usr/local/lib/python3.7/site-packages/')\n",
        "! conda update -n base -c defaults conda -y\n",
        "! conda config --add channels bioconda\n",
        "! conda config --add channels conda-forge\n",
        "! conda install pytorch torchvision torchaudio cudatoolkit=10.1 -c pytorch\n",
        "!pip install dominate #>=2.4.0\n",
        "!pip install visdom #>=0.1.8.8"
      ],
      "execution_count": null,
      "outputs": []
    },
    {
      "cell_type": "markdown",
      "metadata": {
        "id": "BtOS5N6w-6cV"
      },
      "source": [
        "### The CycleGAN train code loaded on google drive is executed."
      ]
    },
    {
      "cell_type": "code",
      "metadata": {
        "id": "XfVU_ZY5VmSD"
      },
      "source": [
        "#!conda install tensorboardX\n",
        "!nvcc --version\n",
        "\n",
        "!nvidia-smi\n",
        "\n",
        "# !cd '/content/gdrive/My\\ Drive/Colab\\ Notebooks/SSD-master'\n",
        "from google.colab import drive\n",
        "drive.mount('/content/gdrive')\n",
        "\n",
        "#!python -m visdom.server\n",
        "\n",
        "%cd /content/gdrive/My\\ Drive/Colab\\ Notebooks/pytorch-CycleGAN-and-pix2pix-master\n",
        "!python train.py --dataroot ./datasets/VOC2CLIPART --name VOC2CLIPART --model cycle_gan #--continue_train --epoch_count 15"
      ],
      "execution_count": null,
      "outputs": []
    },
    {
      "cell_type": "markdown",
      "metadata": {
        "id": "zA__hYxj_Q-e"
      },
      "source": [
        "### The CycleGAN test code loaded on google drive is executed."
      ]
    },
    {
      "cell_type": "code",
      "metadata": {
        "id": "fo-ofQ_1pr1Q"
      },
      "source": [
        "!nvcc --version\n",
        "\n",
        "!nvidia-smi\n",
        "\n",
        "from google.colab import drive\n",
        "drive.mount('/content/gdrive')\n",
        "\n",
        "%cd /content/gdrive/My\\ Drive/Colab\\ Notebooks/pytorch-CycleGAN-and-pix2pix-master\n",
        "\n",
        "%cp ./checkpoints/VOC2CLIPART/latest_net_G_A.pth ./checkpoints/VOC2CLIPART/latest_net_G.pth\n",
        "!python test.py --dataroot ./datasets/VOC2CLIPART --name VOC2CLIPART --model test --no_dropout"
      ],
      "execution_count": null,
      "outputs": []
    }
  ]
}