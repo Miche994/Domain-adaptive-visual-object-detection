{
  "nbformat": 4,
  "nbformat_minor": 0,
  "metadata": {
    "colab": {
      "name": "DA_detection_project.ipynb",
      "provenance": [],
      "collapsed_sections": []
    },
    "kernelspec": {
      "name": "python3",
      "display_name": "Python 3"
    },
    "accelerator": "GPU"
  },
  "cells": [
    {
      "cell_type": "markdown",
      "metadata": {
        "id": "DGOSUycle1Xt"
      },
      "source": [
        "\n",
        "### First of all, the environment is created to run the ssd code uploaded on google drive."
      ]
    },
    {
      "cell_type": "code",
      "metadata": {
        "id": "dH6DlfD4fEz1"
      },
      "source": [
        "import argparse\n",
        "import logging\n",
        "import os\n",
        "\n",
        "# Install conda and add channels to look for packages in\n",
        "import sys\n",
        "! wget https://repo.anaconda.com/archive/Anaconda3-2020.02-Linux-x86_64.sh\n",
        "! chmod +x Anaconda3-2020.02-Linux-x86_64.sh\n",
        "! bash ./Anaconda3-2020.02-Linux-x86_64.sh -b -f -p /usr/local\n",
        "sys.path.append('/usr/local/lib/python3.7/site-packages/')\n",
        "! conda update -n base -c defaults conda -y\n",
        "! conda config --add channels bioconda\n",
        "! conda config --add channels conda-forge\n",
        "! conda install pytorch torchvision torchaudio cudatoolkit=10.1 -c pytorch\n",
        "! conda install -c conda-forge yacs\n",
        "! conda install tqdm\n",
        "! pip install opencv-python==3.4.2.17\n",
        "! pip install opencv-contrib-python==3.4.2.17\n",
        "! pip install vizer\n",
        "! conda install tensorboardX"
      ],
      "execution_count": null,
      "outputs": []
    },
    {
      "cell_type": "markdown",
      "metadata": {
        "id": "qofm5yfqgCT2"
      },
      "source": [
        "### The SSD code loaded on google drive is executed."
      ]
    },
    {
      "cell_type": "code",
      "metadata": {
        "id": "I1pym306WYfY"
      },
      "source": [
        "!nvcc --version\n",
        "\n",
        "!nvidia-smi\n",
        "\n",
        "from google.colab import drive\n",
        "drive.mount('/content/gdrive')\n",
        "\n",
        "import torch\n",
        "\n",
        "# Change: ssd path\n",
        "%cd /content/gdrive/My\\ Drive/Colab\\ Notebooks/SSD-master\n",
        "\n",
        "###### Load model for finetuning ######\n",
        "## Uncomment this code to load model\n",
        "# original = torch.load('outputs/vgg_ssd300_voc0712/model_xxxxxx.pth')\n",
        "\n",
        "# new = {\"model\": original[\"model\"]}\n",
        "# torch.save(new, 'outputs/vgg_ssd300_voc0712/model_000000.pth')\n",
        "######\n",
        "\n",
        "# Execution of \"\"\n",
        "!python train.py --config-file configs/vgg_ssd300_voc0712.yaml --save_step=2500 --eval_step=2500"
      ],
      "execution_count": null,
      "outputs": []
    }
  ]
}